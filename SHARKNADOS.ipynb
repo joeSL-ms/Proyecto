import pandas as pd
SHARKNADO = pd.read_csv('data/attacks.csv', encoding='utf-8', chunksize=1000)